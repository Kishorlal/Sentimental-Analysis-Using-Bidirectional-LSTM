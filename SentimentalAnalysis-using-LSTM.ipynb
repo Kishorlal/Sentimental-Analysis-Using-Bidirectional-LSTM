{
 "cells": [
  {
   "cell_type": "markdown",
   "metadata": {},
   "source": [
    "# Movie Review Prediction using Bidirectional LSTM Technique"
   ]
  },
  {
   "cell_type": "code",
   "execution_count": 69,
   "metadata": {},
   "outputs": [],
   "source": [
    "# import necessary libraries\n",
    "\n",
    "import os\n",
    "import numpy as np\n",
    "import pandas as pd\n",
    "from tensorflow.keras.preprocessing.text import Tokenizer\n",
    "from tensorflow.keras.preprocessing.sequence import pad_sequences\n",
    "from tensorflow.keras.models import Sequential, load_model\n",
    "from tensorflow.keras.layers import Dense, Embedding, LSTM, Bidirectional,Flatten, Dropout\n",
    "from sklearn.model_selection import train_test_split\n",
    "import re\n",
    "import pickle"
   ]
  },
  {
   "cell_type": "code",
   "execution_count": 70,
   "metadata": {},
   "outputs": [],
   "source": [
    "df=pd.read_csv(os.path.join(os.path.abspath(''),r\"IMDB Dataset.csv\"))"
   ]
  },
  {
   "cell_type": "code",
   "execution_count": 71,
   "metadata": {},
   "outputs": [
    {
     "data": {
      "text/html": [
       "<div>\n",
       "<style scoped>\n",
       "    .dataframe tbody tr th:only-of-type {\n",
       "        vertical-align: middle;\n",
       "    }\n",
       "\n",
       "    .dataframe tbody tr th {\n",
       "        vertical-align: top;\n",
       "    }\n",
       "\n",
       "    .dataframe thead th {\n",
       "        text-align: right;\n",
       "    }\n",
       "</style>\n",
       "<table border=\"1\" class=\"dataframe\">\n",
       "  <thead>\n",
       "    <tr style=\"text-align: right;\">\n",
       "      <th></th>\n",
       "      <th>review</th>\n",
       "      <th>sentiment</th>\n",
       "    </tr>\n",
       "  </thead>\n",
       "  <tbody>\n",
       "    <tr>\n",
       "      <th>0</th>\n",
       "      <td>One of the other reviewers has mentioned that ...</td>\n",
       "      <td>positive</td>\n",
       "    </tr>\n",
       "    <tr>\n",
       "      <th>1</th>\n",
       "      <td>A wonderful little production. &lt;br /&gt;&lt;br /&gt;The...</td>\n",
       "      <td>positive</td>\n",
       "    </tr>\n",
       "    <tr>\n",
       "      <th>2</th>\n",
       "      <td>I thought this was a wonderful way to spend ti...</td>\n",
       "      <td>positive</td>\n",
       "    </tr>\n",
       "    <tr>\n",
       "      <th>3</th>\n",
       "      <td>Basically there's a family where a little boy ...</td>\n",
       "      <td>negative</td>\n",
       "    </tr>\n",
       "    <tr>\n",
       "      <th>4</th>\n",
       "      <td>Petter Mattei's \"Love in the Time of Money\" is...</td>\n",
       "      <td>positive</td>\n",
       "    </tr>\n",
       "  </tbody>\n",
       "</table>\n",
       "</div>"
      ],
      "text/plain": [
       "                                              review sentiment\n",
       "0  One of the other reviewers has mentioned that ...  positive\n",
       "1  A wonderful little production. <br /><br />The...  positive\n",
       "2  I thought this was a wonderful way to spend ti...  positive\n",
       "3  Basically there's a family where a little boy ...  negative\n",
       "4  Petter Mattei's \"Love in the Time of Money\" is...  positive"
      ]
     },
     "execution_count": 71,
     "metadata": {},
     "output_type": "execute_result"
    }
   ],
   "source": [
    "df.head()"
   ]
  },
  {
   "cell_type": "code",
   "execution_count": 72,
   "metadata": {},
   "outputs": [],
   "source": [
    "check_null = df.isnull().sum()"
   ]
  },
  {
   "cell_type": "code",
   "execution_count": 73,
   "metadata": {},
   "outputs": [
    {
     "data": {
      "text/plain": [
       "review       0\n",
       "sentiment    0\n",
       "dtype: int64"
      ]
     },
     "execution_count": 73,
     "metadata": {},
     "output_type": "execute_result"
    }
   ],
   "source": [
    "check_null"
   ]
  },
  {
   "cell_type": "code",
   "execution_count": 74,
   "metadata": {},
   "outputs": [
    {
     "data": {
      "text/plain": [
       "(50000, 2)"
      ]
     },
     "execution_count": 74,
     "metadata": {},
     "output_type": "execute_result"
    }
   ],
   "source": [
    "df.shape"
   ]
  },
  {
   "cell_type": "code",
   "execution_count": 75,
   "metadata": {},
   "outputs": [
    {
     "data": {
      "text/plain": [
       "count                                                 50000\n",
       "unique                                                49582\n",
       "top       Loved today's show!!! It was a variety and not...\n",
       "freq                                                      5\n",
       "Name: review, dtype: object"
      ]
     },
     "execution_count": 75,
     "metadata": {},
     "output_type": "execute_result"
    }
   ],
   "source": [
    "df[\"review\"].describe()"
   ]
  },
  {
   "cell_type": "code",
   "execution_count": 76,
   "metadata": {},
   "outputs": [
    {
     "data": {
      "text/plain": [
       "count        50000\n",
       "unique           2\n",
       "top       negative\n",
       "freq         25000\n",
       "Name: sentiment, dtype: object"
      ]
     },
     "execution_count": 76,
     "metadata": {},
     "output_type": "execute_result"
    }
   ],
   "source": [
    "df[\"sentiment\"].describe()"
   ]
  },
  {
   "cell_type": "code",
   "execution_count": 77,
   "metadata": {},
   "outputs": [
    {
     "data": {
      "text/plain": [
       "50000"
      ]
     },
     "execution_count": 77,
     "metadata": {},
     "output_type": "execute_result"
    }
   ],
   "source": [
    "len(df[\"review\"])\n"
   ]
  },
  {
   "cell_type": "markdown",
   "metadata": {},
   "source": [
    "# Data Preprocessing"
   ]
  },
  {
   "cell_type": "code",
   "execution_count": 78,
   "metadata": {},
   "outputs": [],
   "source": [
    "for review in range(len(df[\"review\"])):\n",
    "    df[\"review\"][review]=re.sub(r'<[^<>]+>', repl=\" \",string=df[\"review\"][review]) #remove html tags\n",
    "    df[\"review\"][review]=re.sub(r'[^a-zA-Z0-9\\s]', repl=\" \",string=df[\"review\"][review]) #remove special characters/whitespaces"
   ]
  },
  {
   "cell_type": "code",
   "execution_count": 79,
   "metadata": {},
   "outputs": [
    {
     "data": {
      "text/html": [
       "<div>\n",
       "<style scoped>\n",
       "    .dataframe tbody tr th:only-of-type {\n",
       "        vertical-align: middle;\n",
       "    }\n",
       "\n",
       "    .dataframe tbody tr th {\n",
       "        vertical-align: top;\n",
       "    }\n",
       "\n",
       "    .dataframe thead th {\n",
       "        text-align: right;\n",
       "    }\n",
       "</style>\n",
       "<table border=\"1\" class=\"dataframe\">\n",
       "  <thead>\n",
       "    <tr style=\"text-align: right;\">\n",
       "      <th></th>\n",
       "      <th>review</th>\n",
       "      <th>sentiment</th>\n",
       "    </tr>\n",
       "  </thead>\n",
       "  <tbody>\n",
       "    <tr>\n",
       "      <th>0</th>\n",
       "      <td>One of the other reviewers has mentioned that ...</td>\n",
       "      <td>positive</td>\n",
       "    </tr>\n",
       "    <tr>\n",
       "      <th>1</th>\n",
       "      <td>A wonderful little production    The filming t...</td>\n",
       "      <td>positive</td>\n",
       "    </tr>\n",
       "    <tr>\n",
       "      <th>2</th>\n",
       "      <td>I thought this was a wonderful way to spend ti...</td>\n",
       "      <td>positive</td>\n",
       "    </tr>\n",
       "    <tr>\n",
       "      <th>3</th>\n",
       "      <td>Basically there s a family where a little boy ...</td>\n",
       "      <td>negative</td>\n",
       "    </tr>\n",
       "    <tr>\n",
       "      <th>4</th>\n",
       "      <td>Petter Mattei s  Love in the Time of Money  is...</td>\n",
       "      <td>positive</td>\n",
       "    </tr>\n",
       "  </tbody>\n",
       "</table>\n",
       "</div>"
      ],
      "text/plain": [
       "                                              review sentiment\n",
       "0  One of the other reviewers has mentioned that ...  positive\n",
       "1  A wonderful little production    The filming t...  positive\n",
       "2  I thought this was a wonderful way to spend ti...  positive\n",
       "3  Basically there s a family where a little boy ...  negative\n",
       "4  Petter Mattei s  Love in the Time of Money  is...  positive"
      ]
     },
     "execution_count": 79,
     "metadata": {},
     "output_type": "execute_result"
    }
   ],
   "source": [
    "df.head()"
   ]
  },
  {
   "cell_type": "code",
   "execution_count": 80,
   "metadata": {},
   "outputs": [
    {
     "data": {
      "text/plain": [
       "'A wonderful little production    The filming technique is very unassuming  very old time BBC fashion and gives a comforting  and sometimes discomforting  sense of realism to the entire piece    The actors are extremely well chosen  Michael Sheen not only  has got all the polari  but he has all the voices down pat too  You can truly see the seamless editing guided by the references to Williams  diary entries  not only is it well worth the watching but it is a terrificly written and performed piece  A masterful production about one of the great master s of comedy and his life    The realism really comes home with the little things  the fantasy of the guard which  rather than use the traditional  dream  techniques remains solid then disappears  It plays on our knowledge and our senses  particularly with the scenes concerning Orton and Halliwell and the sets  particularly of their flat with Halliwell s murals decorating every surface  are terribly well done '"
      ]
     },
     "execution_count": 80,
     "metadata": {},
     "output_type": "execute_result"
    }
   ],
   "source": [
    "\n",
    "df[\"review\"][1]"
   ]
  },
  {
   "cell_type": "markdown",
   "metadata": {},
   "source": [
    "# Word Embedding"
   ]
  },
  {
   "cell_type": "code",
   "execution_count": 81,
   "metadata": {},
   "outputs": [],
   "source": [
    "tokenizer = Tokenizer(num_words=5000)  # unique words limit set to 5000"
   ]
  },
  {
   "cell_type": "code",
   "execution_count": 82,
   "metadata": {},
   "outputs": [
    {
     "data": {
      "text/plain": [
       "<keras_preprocessing.text.Tokenizer at 0x1fe3579ed08>"
      ]
     },
     "execution_count": 82,
     "metadata": {},
     "output_type": "execute_result"
    }
   ],
   "source": [
    "tokenizer"
   ]
  },
  {
   "cell_type": "code",
   "execution_count": 83,
   "metadata": {},
   "outputs": [],
   "source": [
    "tokenizer.fit_on_texts(df['review'])"
   ]
  },
  {
   "cell_type": "code",
   "execution_count": 84,
   "metadata": {},
   "outputs": [],
   "source": [
    "X = tokenizer.texts_to_sequences(df['review'])"
   ]
  },
  {
   "cell_type": "code",
   "execution_count": 85,
   "metadata": {},
   "outputs": [
    {
     "data": {
      "text/plain": [
       "[28,\n",
       " 4,\n",
       " 1,\n",
       " 77,\n",
       " 2061,\n",
       " 46,\n",
       " 1063,\n",
       " 11,\n",
       " 100,\n",
       " 149,\n",
       " 41,\n",
       " 303,\n",
       " 3090,\n",
       " 398,\n",
       " 20,\n",
       " 231,\n",
       " 29,\n",
       " 3212,\n",
       " 32,\n",
       " 25,\n",
       " 204,\n",
       " 14,\n",
       " 10,\n",
       " 6,\n",
       " 619,\n",
       " 47,\n",
       " 598,\n",
       " 17,\n",
       " 68,\n",
       " 1,\n",
       " 87,\n",
       " 148,\n",
       " 11,\n",
       " 3258,\n",
       " 68,\n",
       " 44,\n",
       " 3090,\n",
       " 13,\n",
       " 91,\n",
       " 2,\n",
       " 135,\n",
       " 4,\n",
       " 565,\n",
       " 61,\n",
       " 267,\n",
       " 8,\n",
       " 204,\n",
       " 37,\n",
       " 1,\n",
       " 653,\n",
       " 141,\n",
       " 1743,\n",
       " 68,\n",
       " 10,\n",
       " 6,\n",
       " 23,\n",
       " 3,\n",
       " 116,\n",
       " 16,\n",
       " 1,\n",
       " 2336,\n",
       " 40,\n",
       " 10,\n",
       " 116,\n",
       " 2597,\n",
       " 56,\n",
       " 17,\n",
       " 5,\n",
       " 1471,\n",
       " 375,\n",
       " 40,\n",
       " 565,\n",
       " 91,\n",
       " 6,\n",
       " 3831,\n",
       " 8,\n",
       " 1,\n",
       " 358,\n",
       " 360,\n",
       " 4,\n",
       " 1,\n",
       " 653,\n",
       " 7,\n",
       " 6,\n",
       " 436,\n",
       " 3090,\n",
       " 14,\n",
       " 11,\n",
       " 6,\n",
       " 1,\n",
       " 361,\n",
       " 5,\n",
       " 1,\n",
       " 2542,\n",
       " 1044,\n",
       " 7,\n",
       " 2712,\n",
       " 1411,\n",
       " 22,\n",
       " 524,\n",
       " 34,\n",
       " 4681,\n",
       " 2462,\n",
       " 4,\n",
       " 1,\n",
       " 1196,\n",
       " 115,\n",
       " 30,\n",
       " 1,\n",
       " 27,\n",
       " 2912,\n",
       " 2,\n",
       " 389,\n",
       " 36,\n",
       " 6,\n",
       " 23,\n",
       " 299,\n",
       " 22,\n",
       " 1,\n",
       " 4902,\n",
       " 2923,\n",
       " 524,\n",
       " 6,\n",
       " 345,\n",
       " 5,\n",
       " 107,\n",
       " 2450,\n",
       " 2,\n",
       " 52,\n",
       " 36,\n",
       " 327,\n",
       " 2,\n",
       " 25,\n",
       " 112,\n",
       " 224,\n",
       " 242,\n",
       " 9,\n",
       " 60,\n",
       " 132,\n",
       " 1,\n",
       " 282,\n",
       " 1333,\n",
       " 4,\n",
       " 1,\n",
       " 116,\n",
       " 6,\n",
       " 685,\n",
       " 5,\n",
       " 1,\n",
       " 193,\n",
       " 11,\n",
       " 7,\n",
       " 268,\n",
       " 115,\n",
       " 77,\n",
       " 276,\n",
       " 575,\n",
       " 21,\n",
       " 3016,\n",
       " 827,\n",
       " 183,\n",
       " 1305,\n",
       " 4177,\n",
       " 16,\n",
       " 2496,\n",
       " 1230,\n",
       " 827,\n",
       " 1436,\n",
       " 827,\n",
       " 874,\n",
       " 3090,\n",
       " 152,\n",
       " 21,\n",
       " 949,\n",
       " 185,\n",
       " 1,\n",
       " 87,\n",
       " 398,\n",
       " 9,\n",
       " 123,\n",
       " 211,\n",
       " 3258,\n",
       " 68,\n",
       " 14,\n",
       " 36,\n",
       " 1619,\n",
       " 7,\n",
       " 13,\n",
       " 2239,\n",
       " 9,\n",
       " 415,\n",
       " 21,\n",
       " 132,\n",
       " 9,\n",
       " 13,\n",
       " 1583,\n",
       " 16,\n",
       " 7,\n",
       " 18,\n",
       " 14,\n",
       " 9,\n",
       " 292,\n",
       " 52,\n",
       " 9,\n",
       " 1417,\n",
       " 3,\n",
       " 1269,\n",
       " 16,\n",
       " 3090,\n",
       " 2,\n",
       " 191,\n",
       " 5,\n",
       " 1,\n",
       " 299,\n",
       " 2040,\n",
       " 4,\n",
       " 2140,\n",
       " 565,\n",
       " 23,\n",
       " 41,\n",
       " 565,\n",
       " 18,\n",
       " 35,\n",
       " 231,\n",
       " 29,\n",
       " 2986,\n",
       " 43,\n",
       " 16,\n",
       " 3,\n",
       " 35,\n",
       " 231,\n",
       " 501,\n",
       " 22,\n",
       " 633,\n",
       " 2,\n",
       " 75,\n",
       " 242,\n",
       " 17,\n",
       " 7,\n",
       " 70,\n",
       " 645,\n",
       " 701,\n",
       " 109,\n",
       " 654,\n",
       " 83,\n",
       " 1196,\n",
       " 685,\n",
       " 5,\n",
       " 66,\n",
       " 570,\n",
       " 4,\n",
       " 900,\n",
       " 2022,\n",
       " 40,\n",
       " 1196,\n",
       " 555,\n",
       " 149,\n",
       " 3090,\n",
       " 20,\n",
       " 198,\n",
       " 429,\n",
       " 3850,\n",
       " 17,\n",
       " 47,\n",
       " 6,\n",
       " 3327,\n",
       " 804,\n",
       " 1596,\n",
       " 45,\n",
       " 20,\n",
       " 50,\n",
       " 75,\n",
       " 8,\n",
       " 1213,\n",
       " 17,\n",
       " 126,\n",
       " 4112,\n",
       " 485]"
      ]
     },
     "execution_count": 85,
     "metadata": {},
     "output_type": "execute_result"
    }
   ],
   "source": [
    "X[0]"
   ]
  },
  {
   "cell_type": "code",
   "execution_count": 86,
   "metadata": {},
   "outputs": [
    {
     "data": {
      "text/plain": [
       "278"
      ]
     },
     "execution_count": 86,
     "metadata": {},
     "output_type": "execute_result"
    }
   ],
   "source": [
    "len(X[0])"
   ]
  },
  {
   "cell_type": "code",
   "execution_count": 87,
   "metadata": {},
   "outputs": [],
   "source": [
    "# padding so that all reviews will be of length 500\n",
    "X = pad_sequences(X,maxlen=500)\n",
    "\n",
    "\n"
   ]
  },
  {
   "cell_type": "code",
   "execution_count": 88,
   "metadata": {},
   "outputs": [
    {
     "data": {
      "text/plain": [
       "array([   0,    0,    0,    0,    0,    0,    0,    0,    0,    0,    0,\n",
       "          0,    0,    0,    0,    0,    0,    0,    0,    0,    0,    0,\n",
       "          0,    0,    0,    0,    0,    0,    0,    0,    0,    0,    0,\n",
       "          0,    0,    0,    0,    0,    0,    0,    0,    0,    0,    0,\n",
       "          0,    0,    0,    0,    0,    0,    0,    0,    0,    0,    0,\n",
       "          0,    0,    0,    0,    0,    0,    0,    0,    0,    0,    0,\n",
       "          0,    0,    0,    0,    0,    0,    0,    0,    0,    0,    0,\n",
       "          0,    0,    0,    0,    0,    0,    0,    0,    0,    0,    0,\n",
       "          0,    0,    0,    0,    0,    0,    0,    0,    0,    0,    0,\n",
       "          0,    0,    0,    0,    0,    0,    0,    0,    0,    0,    0,\n",
       "          0,    0,    0,    0,    0,    0,    0,    0,    0,    0,    0,\n",
       "          0,    0,    0,    0,    0,    0,    0,    0,    0,    0,    0,\n",
       "          0,    0,    0,    0,    0,    0,    0,    0,    0,    0,    0,\n",
       "          0,    0,    0,    0,    0,    0,    0,    0,    0,    0,    0,\n",
       "          0,    0,    0,    0,    0,    0,    0,    0,    0,    0,    0,\n",
       "          0,    0,    0,    0,    0,    0,    0,    0,    0,    0,    0,\n",
       "          0,    0,    0,    0,    0,    0,    0,    0,    0,    0,    0,\n",
       "          0,    0,    0,    0,    0,    0,    0,    0,    0,    0,    0,\n",
       "          0,    0,    0,    0,    0,    0,    0,    0,    0,    0,    0,\n",
       "          0,    0,    0,    0,    0,    0,    0,    0,    0,    0,    0,\n",
       "          0,    0,   28,    4,    1,   77, 2061,   46, 1063,   11,  100,\n",
       "        149,   41,  303, 3090,  398,   20,  231,   29, 3212,   32,   25,\n",
       "        204,   14,   10,    6,  619,   47,  598,   17,   68,    1,   87,\n",
       "        148,   11, 3258,   68,   44, 3090,   13,   91,    2,  135,    4,\n",
       "        565,   61,  267,    8,  204,   37,    1,  653,  141, 1743,   68,\n",
       "         10,    6,   23,    3,  116,   16,    1, 2336,   40,   10,  116,\n",
       "       2597,   56,   17,    5, 1471,  375,   40,  565,   91,    6, 3831,\n",
       "          8,    1,  358,  360,    4,    1,  653,    7,    6,  436, 3090,\n",
       "         14,   11,    6,    1,  361,    5,    1, 2542, 1044,    7, 2712,\n",
       "       1411,   22,  524,   34, 4681, 2462,    4,    1, 1196,  115,   30,\n",
       "          1,   27, 2912,    2,  389,   36,    6,   23,  299,   22,    1,\n",
       "       4902, 2923,  524,    6,  345,    5,  107, 2450,    2,   52,   36,\n",
       "        327,    2,   25,  112,  224,  242,    9,   60,  132,    1,  282,\n",
       "       1333,    4,    1,  116,    6,  685,    5,    1,  193,   11,    7,\n",
       "        268,  115,   77,  276,  575,   21, 3016,  827,  183, 1305, 4177,\n",
       "         16, 2496, 1230,  827, 1436,  827,  874, 3090,  152,   21,  949,\n",
       "        185,    1,   87,  398,    9,  123,  211, 3258,   68,   14,   36,\n",
       "       1619,    7,   13, 2239,    9,  415,   21,  132,    9,   13, 1583,\n",
       "         16,    7,   18,   14,    9,  292,   52,    9, 1417,    3, 1269,\n",
       "         16, 3090,    2,  191,    5,    1,  299, 2040,    4, 2140,  565,\n",
       "         23,   41,  565,   18,   35,  231,   29, 2986,   43,   16,    3,\n",
       "         35,  231,  501,   22,  633,    2,   75,  242,   17,    7,   70,\n",
       "        645,  701,  109,  654,   83, 1196,  685,    5,   66,  570,    4,\n",
       "        900, 2022,   40, 1196,  555,  149, 3090,   20,  198,  429, 3850,\n",
       "         17,   47,    6, 3327,  804, 1596,   45,   20,   50,   75,    8,\n",
       "       1213,   17,  126, 4112,  485])"
      ]
     },
     "execution_count": 88,
     "metadata": {},
     "output_type": "execute_result"
    }
   ],
   "source": [
    "X[0]"
   ]
  },
  {
   "cell_type": "code",
   "execution_count": 89,
   "metadata": {},
   "outputs": [
    {
     "data": {
      "text/plain": [
       "500"
      ]
     },
     "execution_count": 89,
     "metadata": {},
     "output_type": "execute_result"
    }
   ],
   "source": [
    "len(X[0])"
   ]
  },
  {
   "cell_type": "code",
   "execution_count": 91,
   "metadata": {},
   "outputs": [],
   "source": [
    "Y = df['sentiment']"
   ]
  },
  {
   "cell_type": "markdown",
   "metadata": {},
   "source": [
    "# Create holdout Environment"
   ]
  },
  {
   "cell_type": "code",
   "execution_count": 93,
   "metadata": {},
   "outputs": [],
   "source": [
    "X_train, X_test, Y_train, Y_test = train_test_split(X, Y, test_size=0.2)"
   ]
  },
  {
   "cell_type": "code",
   "execution_count": 102,
   "metadata": {},
   "outputs": [
    {
     "data": {
      "text/plain": [
       "(40000, 500)"
      ]
     },
     "execution_count": 102,
     "metadata": {},
     "output_type": "execute_result"
    }
   ],
   "source": [
    "X_train.shape"
   ]
  },
  {
   "cell_type": "code",
   "execution_count": 94,
   "metadata": {},
   "outputs": [],
   "source": []
  },
  {
   "cell_type": "markdown",
   "metadata": {},
   "source": [
    "# Save tokenizer in a file to use it for prediction later"
   ]
  },
  {
   "cell_type": "code",
   "execution_count": 95,
   "metadata": {},
   "outputs": [],
   "source": [
    "pickle_out=open('tokenizer.pickle',\"wb\")\n",
    "pickle.dump(tokenizer,pickle_out)\n",
    "pickle_out.close()"
   ]
  },
  {
   "cell_type": "markdown",
   "metadata": {},
   "source": [
    "# One hot encoding"
   ]
  },
  {
   "cell_type": "code",
   "execution_count": 97,
   "metadata": {},
   "outputs": [],
   "source": [
    "y_train=pd.get_dummies(Y_train)\n",
    "y_test=pd.get_dummies(Y_test)"
   ]
  },
  {
   "cell_type": "code",
   "execution_count": 132,
   "metadata": {},
   "outputs": [
    {
     "data": {
      "text/html": [
       "<div>\n",
       "<style scoped>\n",
       "    .dataframe tbody tr th:only-of-type {\n",
       "        vertical-align: middle;\n",
       "    }\n",
       "\n",
       "    .dataframe tbody tr th {\n",
       "        vertical-align: top;\n",
       "    }\n",
       "\n",
       "    .dataframe thead th {\n",
       "        text-align: right;\n",
       "    }\n",
       "</style>\n",
       "<table border=\"1\" class=\"dataframe\">\n",
       "  <thead>\n",
       "    <tr style=\"text-align: right;\">\n",
       "      <th></th>\n",
       "      <th>negative</th>\n",
       "      <th>positive</th>\n",
       "    </tr>\n",
       "  </thead>\n",
       "  <tbody>\n",
       "    <tr>\n",
       "      <th>7063</th>\n",
       "      <td>0</td>\n",
       "      <td>1</td>\n",
       "    </tr>\n",
       "    <tr>\n",
       "      <th>12869</th>\n",
       "      <td>1</td>\n",
       "      <td>0</td>\n",
       "    </tr>\n",
       "    <tr>\n",
       "      <th>24021</th>\n",
       "      <td>0</td>\n",
       "      <td>1</td>\n",
       "    </tr>\n",
       "    <tr>\n",
       "      <th>13722</th>\n",
       "      <td>0</td>\n",
       "      <td>1</td>\n",
       "    </tr>\n",
       "    <tr>\n",
       "      <th>43117</th>\n",
       "      <td>0</td>\n",
       "      <td>1</td>\n",
       "    </tr>\n",
       "    <tr>\n",
       "      <th>...</th>\n",
       "      <td>...</td>\n",
       "      <td>...</td>\n",
       "    </tr>\n",
       "    <tr>\n",
       "      <th>16481</th>\n",
       "      <td>0</td>\n",
       "      <td>1</td>\n",
       "    </tr>\n",
       "    <tr>\n",
       "      <th>12763</th>\n",
       "      <td>0</td>\n",
       "      <td>1</td>\n",
       "    </tr>\n",
       "    <tr>\n",
       "      <th>46274</th>\n",
       "      <td>1</td>\n",
       "      <td>0</td>\n",
       "    </tr>\n",
       "    <tr>\n",
       "      <th>45733</th>\n",
       "      <td>0</td>\n",
       "      <td>1</td>\n",
       "    </tr>\n",
       "    <tr>\n",
       "      <th>19099</th>\n",
       "      <td>1</td>\n",
       "      <td>0</td>\n",
       "    </tr>\n",
       "  </tbody>\n",
       "</table>\n",
       "<p>40000 rows × 2 columns</p>\n",
       "</div>"
      ],
      "text/plain": [
       "       negative  positive\n",
       "7063          0         1\n",
       "12869         1         0\n",
       "24021         0         1\n",
       "13722         0         1\n",
       "43117         0         1\n",
       "...         ...       ...\n",
       "16481         0         1\n",
       "12763         0         1\n",
       "46274         1         0\n",
       "45733         0         1\n",
       "19099         1         0\n",
       "\n",
       "[40000 rows x 2 columns]"
      ]
     },
     "execution_count": 132,
     "metadata": {},
     "output_type": "execute_result"
    }
   ],
   "source": [
    "y_train"
   ]
  },
  {
   "cell_type": "markdown",
   "metadata": {},
   "source": [
    "# Model Creation using LSTM Technique"
   ]
  },
  {
   "cell_type": "code",
   "execution_count": 98,
   "metadata": {},
   "outputs": [],
   "source": [
    "vocab_size = len(tokenizer.word_index) + 1 # +1 is necessary for embedding method"
   ]
  },
  {
   "cell_type": "code",
   "execution_count": 99,
   "metadata": {},
   "outputs": [
    {
     "data": {
      "text/plain": [
       "102211"
      ]
     },
     "execution_count": 99,
     "metadata": {},
     "output_type": "execute_result"
    }
   ],
   "source": [
    "vocab_size"
   ]
  },
  {
   "cell_type": "code",
   "execution_count": 101,
   "metadata": {},
   "outputs": [
    {
     "name": "stdout",
     "output_type": "stream",
     "text": [
      "Model: \"sequential_1\"\n",
      "_________________________________________________________________\n",
      "Layer (type)                 Output Shape              Param #   \n",
      "=================================================================\n",
      "embedding_1 (Embedding)      (None, 500, 50)           5110550   \n",
      "_________________________________________________________________\n",
      "bidirectional_1 (Bidirection (None, 256)               183296    \n",
      "_________________________________________________________________\n",
      "dropout_1 (Dropout)          (None, 256)               0         \n",
      "_________________________________________________________________\n",
      "dense_1 (Dense)              (None, 2)                 514       \n",
      "=================================================================\n",
      "Total params: 5,294,360\n",
      "Trainable params: 5,294,360\n",
      "Non-trainable params: 0\n",
      "_________________________________________________________________\n"
     ]
    }
   ],
   "source": [
    "model = Sequential()\n",
    "model.add(Embedding(vocab_size, 50, input_length=500))\n",
    "model.add(Bidirectional(LSTM(128)))\n",
    "model.add(Dropout(0.5))\n",
    "model.add(Dense(2,activation='sigmoid'))\n",
    "model.compile(optimizer='adam',loss='binary_crossentropy', metrics=['accuracy'])\n",
    "model.summary() "
   ]
  },
  {
   "cell_type": "code",
   "execution_count": 107,
   "metadata": {},
   "outputs": [
    {
     "name": "stdout",
     "output_type": "stream",
     "text": [
      "Epoch 1/20\n",
      "313/313 [==============================] - 1179s 4s/step - loss: 0.4667 - accuracy: 0.7721 - val_loss: 0.0000e+00 - val_accuracy: 0.0000e+00\n",
      "Epoch 2/20\n",
      "313/313 [==============================] - 1277s 4s/step - loss: 0.2889 - accuracy: 0.8863 - val_loss: 0.0000e+00 - val_accuracy: 0.0000e+00\n",
      "Epoch 3/20\n",
      "313/313 [==============================] - 1285s 4s/step - loss: 0.2357 - accuracy: 0.9091 - val_loss: 0.0000e+00 - val_accuracy: 0.0000e+00\n",
      "Epoch 4/20\n",
      "313/313 [==============================] - 1274s 4s/step - loss: 0.2071 - accuracy: 0.9209 - val_loss: 0.0000e+00 - val_accuracy: 0.0000e+00\n",
      "Epoch 5/20\n",
      "313/313 [==============================] - 1277s 4s/step - loss: 0.1980 - accuracy: 0.9236 - val_loss: 0.0000e+00 - val_accuracy: 0.0000e+00\n",
      "Epoch 6/20\n",
      "313/313 [==============================] - 1285s 4s/step - loss: 0.1852 - accuracy: 0.9311 - val_loss: 0.0000e+00 - val_accuracy: 0.0000e+00\n",
      "Epoch 00006: early stopping\n"
     ]
    }
   ],
   "source": [
    "from tensorflow.keras.callbacks import EarlyStopping\n",
    "earlyStopping = EarlyStopping(monitor='val_loss', mode='min', verbose=1, patience=5)\n",
    "\n",
    "modelTraining=model.fit(X_train, y_train,\n",
    "                        batch_size=128,\n",
    "                        epochs=20,\n",
    "                        validation_data=[X_test, y_test],\n",
    "                        callbacks=[earlyStopping])"
   ]
  },
  {
   "cell_type": "markdown",
   "metadata": {},
   "source": [
    "# Model Performance"
   ]
  },
  {
   "cell_type": "code",
   "execution_count": 111,
   "metadata": {},
   "outputs": [
    {
     "name": "stdout",
     "output_type": "stream",
     "text": [
      "Test_score =  0.32752764225006104\n",
      "Test_accuracy =  0.8824999928474426\n"
     ]
    }
   ],
   "source": [
    "score=model.evaluate(X_test, y_test, verbose=0)\n",
    "\n",
    "print(\"Test_score = \",score[0])\n",
    "print(\"Test_accuracy = \",score[1])"
   ]
  },
  {
   "cell_type": "markdown",
   "metadata": {},
   "source": [
    "# Save Model"
   ]
  },
  {
   "cell_type": "code",
   "execution_count": 108,
   "metadata": {},
   "outputs": [],
   "source": [
    "\n",
    "model.save('SentimentalAnalysis_LSTM.h5')"
   ]
  },
  {
   "cell_type": "markdown",
   "metadata": {},
   "source": [
    "# Evaluate Model "
   ]
  },
  {
   "cell_type": "code",
   "execution_count": 112,
   "metadata": {},
   "outputs": [],
   "source": [
    "testModel=load_model('SentimentalAnalysis_LSTM.h5')"
   ]
  },
  {
   "cell_type": "code",
   "execution_count": 190,
   "metadata": {},
   "outputs": [],
   "source": [
    "myInput=\"\"\"I watched this movie on a flight and absolutely loved it, I ended up watching on Starz about 5 times... it's funny, cute, silly, emotional and I want What a Hottie Hottie as a ring tone or better yet a full song! I love the animation part of the movie as well, the whole story reads like a fairytale.\"\"\""
   ]
  },
  {
   "cell_type": "code",
   "execution_count": 191,
   "metadata": {},
   "outputs": [],
   "source": [
    "myInput=re.sub(r'<[^<>]+>', repl=\" \",string=myInput) #Excluding html tags\n",
    "myInput=re.sub(r'[^a-zA-Z0-9\\s]', repl=\" \",string=myInput)"
   ]
  },
  {
   "cell_type": "code",
   "execution_count": 192,
   "metadata": {},
   "outputs": [
    {
     "data": {
      "text/plain": [
       "'I watched this movie on a flight and absolutely loved it  I ended up watching on Starz about 5 times    it s funny  cute  silly  emotional and I want What a Hottie Hottie as a ring tone or better yet a full song  I love the animation part of the movie as well  the whole story reads like a fairytale '"
      ]
     },
     "execution_count": 192,
     "metadata": {},
     "output_type": "execute_result"
    }
   ],
   "source": [
    "myInput"
   ]
  },
  {
   "cell_type": "code",
   "execution_count": 193,
   "metadata": {},
   "outputs": [
    {
     "data": {
      "text/plain": [
       "array([[0.05850308, 0.9405468 ]], dtype=float32)"
      ]
     },
     "execution_count": 193,
     "metadata": {},
     "output_type": "execute_result"
    }
   ],
   "source": [
    "prediction=tokenizer.texts_to_sequences([myInput])\n",
    "prediction=pad_sequences(prediction,maxlen=500)\n",
    "model.predict(prediction)"
   ]
  },
  {
   "cell_type": "code",
   "execution_count": 194,
   "metadata": {},
   "outputs": [
    {
     "data": {
      "text/plain": [
       "0.9405468"
      ]
     },
     "execution_count": 194,
     "metadata": {},
     "output_type": "execute_result"
    }
   ],
   "source": [
    "model.predict(prediction)[0][1]"
   ]
  },
  {
   "cell_type": "code",
   "execution_count": null,
   "metadata": {},
   "outputs": [],
   "source": [
    "# model.predict output is closer to 1 it is postive review, else a negative review\n",
    "# I have set 0.75 as a threshold, if the output is greater than 0.75 it is a positive review else a negative review "
   ]
  }
 ],
 "metadata": {
  "kernelspec": {
   "display_name": "Python 3",
   "language": "python",
   "name": "python3"
  },
  "language_info": {
   "codemirror_mode": {
    "name": "ipython",
    "version": 3
   },
   "file_extension": ".py",
   "mimetype": "text/x-python",
   "name": "python",
   "nbconvert_exporter": "python",
   "pygments_lexer": "ipython3",
   "version": "3.7.6"
  }
 },
 "nbformat": 4,
 "nbformat_minor": 4
}
